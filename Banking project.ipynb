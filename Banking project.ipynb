{
 "cells": [
  {
   "cell_type": "code",
   "execution_count": 1,
   "id": "9283c6e8-b620-46ad-bb90-98811cee1143",
   "metadata": {},
   "outputs": [
    {
     "name": "stdout",
     "output_type": "stream",
     "text": [
      "1.Check balance\n",
      "2.Deposit\n",
      "3.Withdraw\n"
     ]
    },
    {
     "name": "stdin",
     "output_type": "stream",
     "text": [
      "Select the correct options(1-3): 1\n"
     ]
    },
    {
     "name": "stdout",
     "output_type": "stream",
     "text": [
      "Total Account balance is 100000\n"
     ]
    },
    {
     "name": "stdin",
     "output_type": "stream",
     "text": [
      "press 1 to continue ,0 to exit: 1\n"
     ]
    },
    {
     "name": "stdout",
     "output_type": "stream",
     "text": [
      "1.Check balance\n",
      "2.Deposit\n",
      "3.Withdraw\n"
     ]
    },
    {
     "name": "stdin",
     "output_type": "stream",
     "text": [
      "Select the correct options(1-3): 2\n",
      "Enter the amount to deposit in ur account: 2000\n"
     ]
    },
    {
     "name": "stdout",
     "output_type": "stream",
     "text": [
      "Your deposit was successfull\n"
     ]
    },
    {
     "name": "stdin",
     "output_type": "stream",
     "text": [
      "press 1 to continue ,0 to exit: 1\n"
     ]
    },
    {
     "name": "stdout",
     "output_type": "stream",
     "text": [
      "1.Check balance\n",
      "2.Deposit\n",
      "3.Withdraw\n"
     ]
    },
    {
     "name": "stdin",
     "output_type": "stream",
     "text": [
      "Select the correct options(1-3): 1\n"
     ]
    },
    {
     "name": "stdout",
     "output_type": "stream",
     "text": [
      "Total Account balance is 102000.0\n"
     ]
    },
    {
     "name": "stdin",
     "output_type": "stream",
     "text": [
      "press 1 to continue ,0 to exit: 1\n"
     ]
    },
    {
     "name": "stdout",
     "output_type": "stream",
     "text": [
      "1.Check balance\n",
      "2.Deposit\n",
      "3.Withdraw\n"
     ]
    },
    {
     "name": "stdin",
     "output_type": "stream",
     "text": [
      "Select the correct options(1-3): 3\n",
      "Enter the amount to withdraw from ur account: 70000\n"
     ]
    },
    {
     "name": "stdout",
     "output_type": "stream",
     "text": [
      "You have successfully withdrawn the money\n"
     ]
    },
    {
     "name": "stdin",
     "output_type": "stream",
     "text": [
      "press 1 to continue ,0 to exit: 1\n"
     ]
    },
    {
     "name": "stdout",
     "output_type": "stream",
     "text": [
      "1.Check balance\n",
      "2.Deposit\n",
      "3.Withdraw\n"
     ]
    },
    {
     "name": "stdin",
     "output_type": "stream",
     "text": [
      "Select the correct options(1-3): 1\n"
     ]
    },
    {
     "name": "stdout",
     "output_type": "stream",
     "text": [
      "Total Account balance is 32000.0\n"
     ]
    },
    {
     "name": "stdin",
     "output_type": "stream",
     "text": [
      "press 1 to continue ,0 to exit: 0\n"
     ]
    }
   ],
   "source": [
    "amount=100000\n",
    "while True:\n",
    "    def check_balance():\n",
    "        print(f\"Total Account balance is {amount}\")\n",
    "    def deposit():\n",
    "        global amount\n",
    "        dep_amount=float(input(\"Enter the amount to deposit in ur account:\"))\n",
    "        amount=amount+dep_amount\n",
    "        print(\"Your deposit was successfull\")\n",
    "    def withdraw():\n",
    "        global amount\n",
    "        with_amount=float(input(\"Enter the amount to withdraw from ur account:\"))\n",
    "        if with_amount>amount:\n",
    "            print(\"Insufficient balance\")\n",
    "        else:\n",
    "           amount-=with_amount\n",
    "           print(\"You have successfully withdrawn the money\")\n",
    "    print(\"1.Check balance\")\n",
    "    print(\"2.Deposit\")\n",
    "    print(\"3.Withdraw\")\n",
    "    temp=int(input(\"Select the correct options(1-3):\"))\n",
    "    if temp==1:\n",
    "        check_balance()\n",
    "    elif temp==2:\n",
    "        deposit()\n",
    "    elif temp==3:\n",
    "        withdraw()\n",
    "    else:\n",
    "        print(\"Invalid input!,choose the correct option\")\n",
    "    result=int(input(\"press 1 to continue ,0 to exit:\"))\n",
    "    if result==1:\n",
    "        continue\n",
    "    elif result==0:\n",
    "         break\n",
    "    else:\n",
    "        print(\"Invalid input!\")\n",
    "       \n",
    "    \n",
    "        \n",
    "        \n",
    "        \n",
    "    \n",
    "    "
   ]
  },
  {
   "cell_type": "code",
   "execution_count": null,
   "id": "e586b65a-c6dc-46ae-b325-0540a0141215",
   "metadata": {},
   "outputs": [],
   "source": []
  }
 ],
 "metadata": {
  "kernelspec": {
   "display_name": "Python 3 (ipykernel)",
   "language": "python",
   "name": "python3"
  },
  "language_info": {
   "codemirror_mode": {
    "name": "ipython",
    "version": 3
   },
   "file_extension": ".py",
   "mimetype": "text/x-python",
   "name": "python",
   "nbconvert_exporter": "python",
   "pygments_lexer": "ipython3",
   "version": "3.12.4"
  }
 },
 "nbformat": 4,
 "nbformat_minor": 5
}
